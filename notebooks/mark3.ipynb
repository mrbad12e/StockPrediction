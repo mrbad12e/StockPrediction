{
 "cells": [
  {
   "cell_type": "code",
   "execution_count": null,
   "metadata": {},
   "outputs": [],
   "source": [
    "import numpy as np\n",
    "import pandas as pd\n",
    "\n",
    "import datetime as dt\n",
    "import yfinance as yf"
   ]
  },
  {
   "cell_type": "code",
   "execution_count": null,
   "metadata": {},
   "outputs": [],
   "source": [
    "symbol = 'BAC'\n",
    "bac = yf.download(symbol, start='2022-01-01', interval='1d')\n",
    "bac"
   ]
  },
  {
   "cell_type": "code",
   "execution_count": null,
   "metadata": {},
   "outputs": [],
   "source": [
    "import matplotlib.pyplot as plt\n",
    "plt.plot(bac.index, bac['Close'])"
   ]
  },
  {
   "cell_type": "code",
   "execution_count": null,
   "metadata": {},
   "outputs": [],
   "source": [
    "data = bac.copy()\n",
    "data['SMA1'] = data['Close'].rolling(window=42).mean()\n",
    "data['SMA2'] = data['Close'].rolling(window=252).mean()\n",
    "data[['Close', 'SMA1', 'SMA2']].plot(figsize=(10, 6))\n",
    "plt.show()\n"
   ]
  },
  {
   "cell_type": "code",
   "execution_count": null,
   "metadata": {},
   "outputs": [],
   "source": [
    "import ta.momentum\n",
    "import ta.trend\n",
    "\n",
    "data['RSI'] = ta.momentum.RSIIndicator(data['Close']).rsi()\n",
    "macd = ta.trend.MACD(data['Close'])\n",
    "data['MACD'] = macd.macd()\n",
    "data['MACD_signal'] = macd.macd_signal()\n",
    "\n",
    "data.dropna(inplace=True)\n",
    "\n",
    "data"
   ]
  },
  {
   "cell_type": "code",
   "execution_count": null,
   "metadata": {},
   "outputs": [],
   "source": [
    "from sklearn.linear_model import LogisticRegression, LinearRegression\n",
    "from sklearn.metrics import accuracy_score, mean_squared_error\n",
    "\n",
    "train_size = int(0.6 * len(data))\n",
    "train = data.iloc[:train_size]\n",
    "test_size = int(0.2 * len(data))\n",
    "test = data.iloc[train_size:train_size+test_size]\n",
    "validate = data.iloc[train_size+test_size:]\n",
    "\n",
    "features = ['SMA1', 'SMA2', 'RSI', 'MACD', 'MACD_signal']\n",
    "target = 'Close'"
   ]
  },
  {
   "cell_type": "code",
   "execution_count": null,
   "metadata": {},
   "outputs": [],
   "source": [
    "def walk_forward(train: pd.DataFrame, test: pd.DataFrame, features, target, validate: pd.DataFrame):\n",
    "    predictions = []\n",
    "    history = train.copy()\n",
    "    \n",
    "    X_train = history[features].dropna()\n",
    "    y_train = history[target].dropna()\n",
    "    model = LinearRegression()\n",
    "    model.fit(X_train, y_train)\n",
    "\n",
    "    X_test = test[features].dropna()\n",
    "    yhat = model.predict(X_test)\n",
    "    predictions.extend(yhat)\n",
    "    history = pd.concat([history, test.iloc[:len(yhat)]], ignore_index=True)\n",
    "\n",
    "    future_predictions = []\n",
    "\n",
    "    X_test = validate[features].dropna()\n",
    "    yhat = model.predict(X_test)\n",
    "    future_predictions.extend(yhat)\n",
    "\n",
    "    new_row = validate.copy()\n",
    "    new_row[target] = yhat[0]\n",
    "    history = pd.concat([history, new_row], ignore_index=True)\n",
    "        \n",
    "    return predictions, future_predictions\n",
    "\n",
    "predictions, future_predictions = walk_forward(train, test, features, target, validate)"
   ]
  },
  {
   "cell_type": "code",
   "execution_count": null,
   "metadata": {},
   "outputs": [],
   "source": [
    "mse = mean_squared_error(test['Close'], predictions)\n",
    "print(f'Mean Squared Error: {mse}')\n",
    "\n",
    "plt.figure(figsize=(10, 6))\n",
    "plt.plot(test.index, test['Close'], label='Actual')\n",
    "plt.plot(test.index, predictions, label='Predicted')\n",
    "plt.legend()\n",
    "plt.show()"
   ]
  },
  {
   "cell_type": "code",
   "execution_count": null,
   "metadata": {},
   "outputs": [],
   "source": [
    "test['Predicted'] = predictions\n",
    "validate['Predicted'] = future_predictions\n",
    "plt.figure(figsize=(14, 7))\n",
    "\n",
    "plt.plot(data.index, data['Close'], label='Actual')\n",
    "plt.plot(test.index, test['Predicted'], label='Predicted')\n",
    "plt.plot(validate.index, validate['Predicted'], label='Future Predicted')\n",
    "plt.legend()\n",
    "plt.show()"
   ]
  }
 ],
 "metadata": {
  "kernelspec": {
   "display_name": "myenv",
   "language": "python",
   "name": "python3"
  },
  "language_info": {
   "codemirror_mode": {
    "name": "ipython",
    "version": 3
   },
   "file_extension": ".py",
   "mimetype": "text/x-python",
   "name": "python",
   "nbconvert_exporter": "python",
   "pygments_lexer": "ipython3",
   "version": "3.12.1"
  }
 },
 "nbformat": 4,
 "nbformat_minor": 2
}
